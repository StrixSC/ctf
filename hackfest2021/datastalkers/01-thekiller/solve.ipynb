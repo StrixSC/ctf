{
 "cells": [
  {
   "cell_type": "markdown",
   "id": "425ee99b-fde8-42d7-a121-fc2f7fa3e980",
   "metadata": {},
   "source": [
    "## Challenge 1\n",
    "### The 斐波那契 Killer\n",
    "\n",
    "The Beijing police are trying to elucidate a series of killings and disappearances. The only thing the victims have in common is the characters 斐波那契 carved somewhere on their bodies. They have reason to believe the killer have tapped into their surveilliance system. Can you find the last known locations of the victims?"
   ]
  },
  {
   "cell_type": "code",
   "execution_count": 30,
   "id": "1b46c0f8-824d-42b4-a323-f935f6a58c41",
   "metadata": {},
   "outputs": [
    {
     "data": {
      "text/html": [
       "<div>\n",
       "<style scoped>\n",
       "    .dataframe tbody tr th:only-of-type {\n",
       "        vertical-align: middle;\n",
       "    }\n",
       "\n",
       "    .dataframe tbody tr th {\n",
       "        vertical-align: top;\n",
       "    }\n",
       "\n",
       "    .dataframe thead th {\n",
       "        text-align: right;\n",
       "    }\n",
       "</style>\n",
       "<table border=\"1\" class=\"dataframe\">\n",
       "  <thead>\n",
       "    <tr style=\"text-align: right;\">\n",
       "      <th></th>\n",
       "      <th>geometry</th>\n",
       "      <th>citizen_id</th>\n",
       "    </tr>\n",
       "  </thead>\n",
       "  <tbody>\n",
       "    <tr>\n",
       "      <th>51</th>\n",
       "      <td>LINESTRING (116.33330 39.97523, 116.33330 39.9...</td>\n",
       "      <td>8</td>\n",
       "    </tr>\n",
       "    <tr>\n",
       "      <th>118</th>\n",
       "      <td>LINESTRING (116.33405 39.97490, 116.33405 39.9...</td>\n",
       "      <td>144</td>\n",
       "    </tr>\n",
       "    <tr>\n",
       "      <th>146</th>\n",
       "      <td>LINESTRING (116.33431 39.97519, 116.33431 39.9...</td>\n",
       "      <td>233</td>\n",
       "    </tr>\n",
       "    <tr>\n",
       "      <th>177</th>\n",
       "      <td>LINESTRING (116.33037 39.97490, 116.33037 39.9...</td>\n",
       "      <td>2</td>\n",
       "    </tr>\n",
       "    <tr>\n",
       "      <th>258</th>\n",
       "      <td>LINESTRING (116.32974 39.97536, 116.32974 39.9...</td>\n",
       "      <td>5</td>\n",
       "    </tr>\n",
       "    <tr>\n",
       "      <th>295</th>\n",
       "      <td>LINESTRING (116.33191 39.97527, 116.33191 39.9...</td>\n",
       "      <td>3</td>\n",
       "    </tr>\n",
       "    <tr>\n",
       "      <th>394</th>\n",
       "      <td>LINESTRING (116.32912 39.97539, 116.32912 39.9...</td>\n",
       "      <td>21</td>\n",
       "    </tr>\n",
       "    <tr>\n",
       "      <th>513</th>\n",
       "      <td>LINESTRING (116.33252 39.97526, 116.33252 39.9...</td>\n",
       "      <td>377</td>\n",
       "    </tr>\n",
       "    <tr>\n",
       "      <th>547</th>\n",
       "      <td>LINESTRING (116.33129 39.97492, 116.33129 39.9...</td>\n",
       "      <td>89</td>\n",
       "    </tr>\n",
       "    <tr>\n",
       "      <th>628</th>\n",
       "      <td>LINESTRING (116.33358 39.97489, 116.33358 39.9...</td>\n",
       "      <td>0</td>\n",
       "    </tr>\n",
       "    <tr>\n",
       "      <th>702</th>\n",
       "      <td>LINESTRING (116.32982 39.97513, 116.32982 39.9...</td>\n",
       "      <td>34</td>\n",
       "    </tr>\n",
       "    <tr>\n",
       "      <th>722</th>\n",
       "      <td>LINESTRING (116.33295 39.97491, 116.33295 39.9...</td>\n",
       "      <td>13</td>\n",
       "    </tr>\n",
       "    <tr>\n",
       "      <th>790</th>\n",
       "      <td>LINESTRING (116.33450 39.97521, 116.33450 39.9...</td>\n",
       "      <td>610</td>\n",
       "    </tr>\n",
       "    <tr>\n",
       "      <th>829</th>\n",
       "      <td>LINESTRING (116.33064 39.97530, 116.33064 39.9...</td>\n",
       "      <td>1</td>\n",
       "    </tr>\n",
       "    <tr>\n",
       "      <th>977</th>\n",
       "      <td>LINESTRING (116.33208 39.97509, 116.33208 39.9...</td>\n",
       "      <td>55</td>\n",
       "    </tr>\n",
       "  </tbody>\n",
       "</table>\n",
       "</div>"
      ],
      "text/plain": [
       "                                              geometry  citizen_id\n",
       "51   LINESTRING (116.33330 39.97523, 116.33330 39.9...           8\n",
       "118  LINESTRING (116.33405 39.97490, 116.33405 39.9...         144\n",
       "146  LINESTRING (116.33431 39.97519, 116.33431 39.9...         233\n",
       "177  LINESTRING (116.33037 39.97490, 116.33037 39.9...           2\n",
       "258  LINESTRING (116.32974 39.97536, 116.32974 39.9...           5\n",
       "295  LINESTRING (116.33191 39.97527, 116.33191 39.9...           3\n",
       "394  LINESTRING (116.32912 39.97539, 116.32912 39.9...          21\n",
       "513  LINESTRING (116.33252 39.97526, 116.33252 39.9...         377\n",
       "547  LINESTRING (116.33129 39.97492, 116.33129 39.9...          89\n",
       "628  LINESTRING (116.33358 39.97489, 116.33358 39.9...           0\n",
       "702  LINESTRING (116.32982 39.97513, 116.32982 39.9...          34\n",
       "722  LINESTRING (116.33295 39.97491, 116.33295 39.9...          13\n",
       "790  LINESTRING (116.33450 39.97521, 116.33450 39.9...         610\n",
       "829  LINESTRING (116.33064 39.97530, 116.33064 39.9...           1\n",
       "977  LINESTRING (116.33208 39.97509, 116.33208 39.9...          55"
      ]
     },
     "metadata": {},
     "output_type": "display_data"
    }
   ],
   "source": [
    "import geopandas as gpd\n",
    "\n",
    "valid_ids = [8, 144, 233, 2, 5, 3, 21, 377, 89, 0, 34, 13, 610, 1, 55]\n",
    "gdf = gpd.read_parquet(\"geodata.parquet\")\n",
    "gdf = gdf[gdf['citizen_id'].isin(valid_ids)]\n",
    "\n",
    "display(gdf)"
   ]
  },
  {
   "cell_type": "markdown",
   "id": "ecbd1929-d22a-4e8a-89a5-aa5635d44a58",
   "metadata": {},
   "source": [
    "_Once you found out the who the victims where, the flag should present itself to you_"
   ]
  },
  {
   "cell_type": "markdown",
   "id": "442eec1f-c2d8-44a7-930e-815707b4547e",
   "metadata": {},
   "source": [
    "### Load citizen positions in a map"
   ]
  },
  {
   "cell_type": "code",
   "execution_count": 31,
   "id": "5ea54881-153d-4b89-8e43-fe20369972ce",
   "metadata": {},
   "outputs": [
    {
     "data": {
      "application/vnd.jupyter.widget-view+json": {
       "model_id": "e76311a7bd53439d977845f3243f1e10",
       "version_major": 2,
       "version_minor": 0
      },
      "text/plain": [
       "Map(center=[39, 116], controls=(ZoomControl(options=['position', 'zoom_in_text', 'zoom_in_title', 'zoom_out_te…"
      ]
     },
     "metadata": {},
     "output_type": "display_data"
    }
   ],
   "source": [
    "from ipyleaflet import Map, GeoData, basemaps\n",
    "\n",
    "m = Map(basemap=basemaps.Esri.WorldImagery, center = (39, 116), zoom =3)\n",
    "\n",
    "beijing_citizens = GeoData(geo_dataframe = gdf,\n",
    "                   style={'color': 'red', 'opacity':4, 'weight':4, 'dashArray':'2', 'fillOpacity':0.6},\n",
    "                   name = 'beijing_citizens')\n",
    "\n",
    "m.add_layer(beijing_citizens)\n",
    "    \n",
    "display(m)\n",
    "\n",
    "HF-4WN5JXR3AY8Z"
   ]
  },
  {
   "cell_type": "markdown",
   "id": "ff6a6f75-099c-47b9-8578-0491cd8b8d07",
   "metadata": {},
   "source": [
    "#### _For slow computers: you can simply plot the geodata without a map_"
   ]
  },
  {
   "cell_type": "code",
   "execution_count": 3,
   "id": "c1345230-487f-469a-8453-ddb2f6819794",
   "metadata": {},
   "outputs": [
    {
     "data": {
      "text/plain": [
       "<AxesSubplot:>"
      ]
     },
     "execution_count": 3,
     "metadata": {},
     "output_type": "execute_result"
    },
    {
     "data": {
      "image/png": "[encoded data removed]",
      "text/plain": [
       "<Figure size 432x288 with 1 Axes>"
      ]
     },
     "metadata": {
      "needs_background": "light"
     },
     "output_type": "display_data"
    }
   ],
   "source": [
    "gdf.plot()"
   ]
  }
 ],
 "metadata": {
  "kernelspec": {
   "display_name": "Python 3 (ipykernel)",
   "language": "python",
   "name": "python3"
  },
  "language_info": {
   "codemirror_mode": {
    "name": "ipython",
    "version": 3
   },
   "file_extension": ".py",
   "mimetype": "text/x-python",
   "name": "python",
   "nbconvert_exporter": "python",
   "pygments_lexer": "ipython3",
   "version": "3.9.9"
  }
 },
 "nbformat": 4,
 "nbformat_minor": 5
}
